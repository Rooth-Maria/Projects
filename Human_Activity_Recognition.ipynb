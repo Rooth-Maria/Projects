{
  "cells": [
    {
      "cell_type": "markdown",
      "metadata": {
        "id": "_vGZhnyF4sLj"
      },
      "source": [
        "Firstly we will download the UCI HAR dataset"
      ]
    },
    {
      "cell_type": "code",
      "execution_count": null,
      "metadata": {
        "colab": {
          "base_uri": "https://localhost:8080/"
        },
        "id": "kqfh97I54waf",
        "outputId": "ede5eac0-3de3-4c16-afb4-b74943c9f5c5"
      },
      "outputs": [
        {
          "output_type": "stream",
          "name": "stdout",
          "text": [
            "--2022-05-02 19:01:28--  https://archive.ics.uci.edu/ml/machine-learning-databases/00240/UCI%20HAR%20Dataset.zip\n",
            "Resolving archive.ics.uci.edu (archive.ics.uci.edu)... 128.195.10.252\n",
            "Connecting to archive.ics.uci.edu (archive.ics.uci.edu)|128.195.10.252|:443... connected.\n",
            "HTTP request sent, awaiting response... 200 OK\n",
            "Length: 60999314 (58M) [application/x-httpd-php]\n",
            "Saving to: ‘UCI HAR Dataset.zip’\n",
            "\n",
            "UCI HAR Dataset.zip 100%[===================>]  58.17M  16.9MB/s    in 3.4s    \n",
            "\n",
            "2022-05-02 19:01:32 (16.9 MB/s) - ‘UCI HAR Dataset.zip’ saved [60999314/60999314]\n",
            "\n"
          ]
        }
      ],
      "source": [
        "! wget https://archive.ics.uci.edu/ml/machine-learning-databases/00240/UCI%20HAR%20Dataset.zip"
      ]
    },
    {
      "cell_type": "code",
      "execution_count": null,
      "metadata": {
        "colab": {
          "base_uri": "https://localhost:8080/"
        },
        "id": "czvJU-Lz490F",
        "outputId": "22cde520-ab19-46fe-d602-7215d88f9a58"
      },
      "outputs": [
        {
          "output_type": "stream",
          "name": "stdout",
          "text": [
            "Archive:  UCI HAR Dataset.zip\n",
            "   creating: UCI HAR Dataset/\n",
            "  inflating: UCI HAR Dataset/.DS_Store  \n",
            "   creating: __MACOSX/\n",
            "   creating: __MACOSX/UCI HAR Dataset/\n",
            "  inflating: __MACOSX/UCI HAR Dataset/._.DS_Store  \n",
            "  inflating: UCI HAR Dataset/activity_labels.txt  \n",
            "  inflating: __MACOSX/UCI HAR Dataset/._activity_labels.txt  \n",
            "  inflating: UCI HAR Dataset/features.txt  \n",
            "  inflating: __MACOSX/UCI HAR Dataset/._features.txt  \n",
            "  inflating: UCI HAR Dataset/features_info.txt  \n",
            "  inflating: __MACOSX/UCI HAR Dataset/._features_info.txt  \n",
            "  inflating: UCI HAR Dataset/README.txt  \n",
            "  inflating: __MACOSX/UCI HAR Dataset/._README.txt  \n",
            "   creating: UCI HAR Dataset/test/\n",
            "   creating: UCI HAR Dataset/test/Inertial Signals/\n",
            "  inflating: UCI HAR Dataset/test/Inertial Signals/body_acc_x_test.txt  \n",
            "   creating: __MACOSX/UCI HAR Dataset/test/\n",
            "   creating: __MACOSX/UCI HAR Dataset/test/Inertial Signals/\n",
            "  inflating: __MACOSX/UCI HAR Dataset/test/Inertial Signals/._body_acc_x_test.txt  \n",
            "  inflating: UCI HAR Dataset/test/Inertial Signals/body_acc_y_test.txt  \n",
            "  inflating: __MACOSX/UCI HAR Dataset/test/Inertial Signals/._body_acc_y_test.txt  \n",
            "  inflating: UCI HAR Dataset/test/Inertial Signals/body_acc_z_test.txt  \n",
            "  inflating: __MACOSX/UCI HAR Dataset/test/Inertial Signals/._body_acc_z_test.txt  \n",
            "  inflating: UCI HAR Dataset/test/Inertial Signals/body_gyro_x_test.txt  \n",
            "  inflating: __MACOSX/UCI HAR Dataset/test/Inertial Signals/._body_gyro_x_test.txt  \n",
            "  inflating: UCI HAR Dataset/test/Inertial Signals/body_gyro_y_test.txt  \n",
            "  inflating: __MACOSX/UCI HAR Dataset/test/Inertial Signals/._body_gyro_y_test.txt  \n",
            "  inflating: UCI HAR Dataset/test/Inertial Signals/body_gyro_z_test.txt  \n",
            "  inflating: __MACOSX/UCI HAR Dataset/test/Inertial Signals/._body_gyro_z_test.txt  \n",
            "  inflating: UCI HAR Dataset/test/Inertial Signals/total_acc_x_test.txt  \n",
            "  inflating: __MACOSX/UCI HAR Dataset/test/Inertial Signals/._total_acc_x_test.txt  \n",
            "  inflating: UCI HAR Dataset/test/Inertial Signals/total_acc_y_test.txt  \n",
            "  inflating: __MACOSX/UCI HAR Dataset/test/Inertial Signals/._total_acc_y_test.txt  \n",
            "  inflating: UCI HAR Dataset/test/Inertial Signals/total_acc_z_test.txt  \n",
            "  inflating: __MACOSX/UCI HAR Dataset/test/Inertial Signals/._total_acc_z_test.txt  \n",
            "  inflating: __MACOSX/UCI HAR Dataset/test/._Inertial Signals  \n",
            "  inflating: UCI HAR Dataset/test/subject_test.txt  \n",
            "  inflating: __MACOSX/UCI HAR Dataset/test/._subject_test.txt  \n",
            "  inflating: UCI HAR Dataset/test/X_test.txt  \n",
            "  inflating: __MACOSX/UCI HAR Dataset/test/._X_test.txt  \n",
            "  inflating: UCI HAR Dataset/test/y_test.txt  \n",
            "  inflating: __MACOSX/UCI HAR Dataset/test/._y_test.txt  \n",
            "  inflating: __MACOSX/UCI HAR Dataset/._test  \n",
            "   creating: UCI HAR Dataset/train/\n",
            "   creating: UCI HAR Dataset/train/Inertial Signals/\n",
            "  inflating: UCI HAR Dataset/train/Inertial Signals/body_acc_x_train.txt  \n",
            "   creating: __MACOSX/UCI HAR Dataset/train/\n",
            "   creating: __MACOSX/UCI HAR Dataset/train/Inertial Signals/\n",
            "  inflating: __MACOSX/UCI HAR Dataset/train/Inertial Signals/._body_acc_x_train.txt  \n",
            "  inflating: UCI HAR Dataset/train/Inertial Signals/body_acc_y_train.txt  \n",
            "  inflating: __MACOSX/UCI HAR Dataset/train/Inertial Signals/._body_acc_y_train.txt  \n",
            "  inflating: UCI HAR Dataset/train/Inertial Signals/body_acc_z_train.txt  \n",
            "  inflating: __MACOSX/UCI HAR Dataset/train/Inertial Signals/._body_acc_z_train.txt  \n",
            "  inflating: UCI HAR Dataset/train/Inertial Signals/body_gyro_x_train.txt  \n",
            "  inflating: __MACOSX/UCI HAR Dataset/train/Inertial Signals/._body_gyro_x_train.txt  \n",
            "  inflating: UCI HAR Dataset/train/Inertial Signals/body_gyro_y_train.txt  \n",
            "  inflating: __MACOSX/UCI HAR Dataset/train/Inertial Signals/._body_gyro_y_train.txt  \n",
            "  inflating: UCI HAR Dataset/train/Inertial Signals/body_gyro_z_train.txt  \n",
            "  inflating: __MACOSX/UCI HAR Dataset/train/Inertial Signals/._body_gyro_z_train.txt  \n",
            "  inflating: UCI HAR Dataset/train/Inertial Signals/total_acc_x_train.txt  \n",
            "  inflating: __MACOSX/UCI HAR Dataset/train/Inertial Signals/._total_acc_x_train.txt  \n",
            "  inflating: UCI HAR Dataset/train/Inertial Signals/total_acc_y_train.txt  \n",
            "  inflating: __MACOSX/UCI HAR Dataset/train/Inertial Signals/._total_acc_y_train.txt  \n",
            "  inflating: UCI HAR Dataset/train/Inertial Signals/total_acc_z_train.txt  \n",
            "  inflating: __MACOSX/UCI HAR Dataset/train/Inertial Signals/._total_acc_z_train.txt  \n",
            "  inflating: __MACOSX/UCI HAR Dataset/train/._Inertial Signals  \n",
            "  inflating: UCI HAR Dataset/train/subject_train.txt  \n",
            "  inflating: __MACOSX/UCI HAR Dataset/train/._subject_train.txt  \n",
            "  inflating: UCI HAR Dataset/train/X_train.txt  \n",
            "  inflating: __MACOSX/UCI HAR Dataset/train/._X_train.txt  \n",
            "  inflating: UCI HAR Dataset/train/y_train.txt  \n",
            "  inflating: __MACOSX/UCI HAR Dataset/train/._y_train.txt  \n",
            "  inflating: __MACOSX/UCI HAR Dataset/._train  \n",
            "  inflating: __MACOSX/._UCI HAR Dataset  \n"
          ]
        }
      ],
      "source": [
        "#unzip it\n",
        "!unzip \"UCI HAR Dataset.zip\""
      ]
    },
    {
      "cell_type": "code",
      "execution_count": null,
      "metadata": {
        "id": "wmC2mmOT5Cjo"
      },
      "outputs": [],
      "source": [
        "#moving it into our current working directory\n",
        "!mv \"UCI HAR Dataset\" HARDataset/"
      ]
    },
    {
      "cell_type": "code",
      "execution_count": null,
      "metadata": {
        "id": "j8y3jjaA5FZ8"
      },
      "outputs": [],
      "source": [
        "from numpy import std\n",
        "from numpy import dstack\n",
        "from pandas import read_csv"
      ]
    },
    {
      "cell_type": "markdown",
      "metadata": {
        "id": "NYyMJaoh5MCI"
      },
      "source": [
        "Here we will try to load a group of files, such as all of the body acceleration data files as a single group."
      ]
    },
    {
      "cell_type": "code",
      "execution_count": null,
      "metadata": {
        "colab": {
          "base_uri": "https://localhost:8080/"
        },
        "id": "6BPdjptQ5H_I",
        "outputId": "ce1c9613-56b5-4644-898a-f753a9d73e9b"
      },
      "outputs": [
        {
          "output_type": "stream",
          "name": "stdout",
          "text": [
            "(7352, 128, 3)\n"
          ]
        }
      ],
      "source": [
        "# load a single file as a numpy array\n",
        "def load_file(filepath):\n",
        "\tdataframe = read_csv(filepath, header=None, delim_whitespace=True)\n",
        "\treturn dataframe.values\n",
        " \n",
        "# load a list of files, such as x, y, z data for a given variable\n",
        "def load_group(filenames, prefix=''):\n",
        "\tloaded = list()\n",
        "\tfor name in filenames:\n",
        "\t\tdata = load_file(prefix + name)\n",
        "\t\tloaded.append(data)\n",
        "\t# stack group so that features are the 3rd dimension\n",
        "\tloaded = dstack(loaded)\n",
        "\treturn loaded\n",
        " \n",
        "# load the total acc data\n",
        "filenames = ['total_acc_x_train.txt', 'total_acc_y_train.txt', 'total_acc_z_train.txt']\n",
        "total_acc = load_group(filenames, prefix='HARDataset/train/Inertial Signals/')\n",
        "print(total_acc.shape)"
      ]
    },
    {
      "cell_type": "code",
      "execution_count": null,
      "metadata": {
        "colab": {
          "base_uri": "https://localhost:8080/"
        },
        "id": "S9H2miwy5XCQ",
        "outputId": "75bde2b6-645c-47bb-be9c-343c9d482ff7"
      },
      "outputs": [
        {
          "output_type": "stream",
          "name": "stdout",
          "text": [
            "(7352, 128, 9) (7352, 1)\n",
            "(2947, 128, 9) (2947, 1)\n"
          ]
        }
      ],
      "source": [
        "# load a single file as a numpy array\n",
        "def load_file(filepath):\n",
        "\tdataframe = read_csv(filepath, header=None, delim_whitespace=True)\n",
        "\treturn dataframe.values\n",
        " \n",
        "# load a list of files, such as x, y, z data for a given variable\n",
        "def load_group(filenames, prefix=''):\n",
        "\tloaded = list()\n",
        "\tfor name in filenames:\n",
        "\t\tdata = load_file(prefix + name)\n",
        "\t\tloaded.append(data)\n",
        "\t# stack group so that features are the 3rd dimension\n",
        "\tloaded = dstack(loaded)\n",
        "\treturn loaded\n",
        " \n",
        "# load a dataset group, such as train or test\n",
        "def load_dataset(group, prefix=''):\n",
        "\tfilepath = prefix + group + '/Inertial Signals/'\n",
        "\t# load all 9 files as a single array\n",
        "\tfilenames = list()\n",
        "\t# total acceleration\n",
        "\tfilenames += ['total_acc_x_'+group+'.txt', 'total_acc_y_'+group+'.txt', 'total_acc_z_'+group+'.txt']\n",
        "\t# body acceleration\n",
        "\tfilenames += ['body_acc_x_'+group+'.txt', 'body_acc_y_'+group+'.txt', 'body_acc_z_'+group+'.txt']\n",
        "\t# body gyroscope\n",
        "\tfilenames += ['body_gyro_x_'+group+'.txt', 'body_gyro_y_'+group+'.txt', 'body_gyro_z_'+group+'.txt']\n",
        "\t# load input data\n",
        "\tX = load_group(filenames, filepath)\n",
        "\t# load class output\n",
        "\ty = load_file(prefix + group + '/y_'+group+'.txt')\n",
        "\treturn X, y\n",
        "\n",
        "# load all train\n",
        "trainX, trainy = load_dataset('train', 'HARDataset/')\n",
        "print(trainX.shape, trainy.shape)\n",
        "# load all test\n",
        "testX, testy = load_dataset('test', 'HARDataset/')\n",
        "print(testX.shape, testy.shape)"
      ]
    },
    {
      "cell_type": "code",
      "execution_count": null,
      "metadata": {
        "id": "-e_D22MW5bRg"
      },
      "outputs": [],
      "source": [
        "testr = testy\n",
        "trainr = trainy"
      ]
    },
    {
      "cell_type": "code",
      "execution_count": null,
      "metadata": {
        "id": "d8Gox9gh5h-z"
      },
      "outputs": [],
      "source": [
        "testr = testr-1"
      ]
    },
    {
      "cell_type": "code",
      "execution_count": null,
      "metadata": {
        "id": "sgmb8Qyy5maF"
      },
      "outputs": [],
      "source": [
        "from keras.utils import np_utils"
      ]
    },
    {
      "cell_type": "code",
      "execution_count": null,
      "metadata": {
        "id": "kBaislWj5pQB"
      },
      "outputs": [],
      "source": [
        "# zero-offset class values\n",
        "testy = testy - 1\n",
        "trainy = trainy - 1"
      ]
    },
    {
      "cell_type": "code",
      "execution_count": null,
      "metadata": {
        "colab": {
          "base_uri": "https://localhost:8080/"
        },
        "id": "8lIjzkO05vK0",
        "outputId": "643b0acc-cd23-462b-df00-62681c57dbbb"
      },
      "outputs": [
        {
          "output_type": "execute_result",
          "data": {
            "text/plain": [
              "(2947, 6)"
            ]
          },
          "metadata": {},
          "execution_count": 11
        }
      ],
      "source": [
        "#one hot encoding\n",
        "testy = np_utils.to_categorical(testy)\n",
        "testy.shape"
      ]
    },
    {
      "cell_type": "code",
      "execution_count": null,
      "metadata": {
        "colab": {
          "base_uri": "https://localhost:8080/"
        },
        "id": "uC9LR1SZ5w2o",
        "outputId": "0504c63e-81fb-4f97-bec4-58dda0d227bb"
      },
      "outputs": [
        {
          "output_type": "execute_result",
          "data": {
            "text/plain": [
              "(7352, 6)"
            ]
          },
          "metadata": {},
          "execution_count": 12
        }
      ],
      "source": [
        "#one hot encoding\n",
        "trainy = np_utils.to_categorical(trainy)\n",
        "trainy.shape"
      ]
    },
    {
      "cell_type": "code",
      "execution_count": null,
      "metadata": {
        "id": "XDyCcaOq52Xf"
      },
      "outputs": [],
      "source": [
        "from keras.models import Sequential\n",
        "from keras.layers import Dense,Flatten"
      ]
    },
    {
      "cell_type": "code",
      "execution_count": null,
      "metadata": {
        "id": "SS7uqmp556gv"
      },
      "outputs": [],
      "source": [
        "import matplotlib.pyplot as plt\n",
        "from mlxtend.plotting import plot_confusion_matrix\n",
        "from sklearn.metrics import confusion_matrix"
      ]
    },
    {
      "cell_type": "code",
      "execution_count": null,
      "metadata": {
        "id": "h6QjZ1qm58GF"
      },
      "outputs": [],
      "source": [
        "import numpy as np"
      ]
    },
    {
      "cell_type": "markdown",
      "metadata": {
        "id": "PlbDZchB6Vyd"
      },
      "source": [
        "# RNN MODEL\n"
      ]
    },
    {
      "cell_type": "code",
      "execution_count": null,
      "metadata": {
        "id": "KeVYIzvL6tnZ"
      },
      "outputs": [],
      "source": [
        "from keras.layers import SimpleRNN"
      ]
    },
    {
      "cell_type": "code",
      "execution_count": null,
      "metadata": {
        "id": "lVL-EIev6jha"
      },
      "outputs": [],
      "source": [
        "#model creation\n",
        "modelrnn = Sequential()\n",
        "modelrnn.add(SimpleRNN(units = 128,input_shape=(128,9)))\n",
        "modelrnn.add(Dense(units = 64, activation='relu'))\n",
        "modelrnn.add(Dense(units = 6 , activation='sigmoid'))"
      ]
    },
    {
      "cell_type": "code",
      "execution_count": null,
      "metadata": {
        "colab": {
          "base_uri": "https://localhost:8080/"
        },
        "id": "jfTpiUyf6z2g",
        "outputId": "306c0ad7-677d-4f65-f005-792ede15bcf1"
      },
      "outputs": [
        {
          "output_type": "stream",
          "name": "stdout",
          "text": [
            "Model: \"sequential\"\n",
            "_________________________________________________________________\n",
            " Layer (type)                Output Shape              Param #   \n",
            "=================================================================\n",
            " simple_rnn (SimpleRNN)      (None, 128)               17664     \n",
            "                                                                 \n",
            " dense (Dense)               (None, 64)                8256      \n",
            "                                                                 \n",
            " dense_1 (Dense)             (None, 6)                 390       \n",
            "                                                                 \n",
            "=================================================================\n",
            "Total params: 26,310\n",
            "Trainable params: 26,310\n",
            "Non-trainable params: 0\n",
            "_________________________________________________________________\n"
          ]
        }
      ],
      "source": [
        "modelrnn.summary()"
      ]
    },
    {
      "cell_type": "code",
      "execution_count": null,
      "metadata": {
        "id": "jwW3Gv_K64_I"
      },
      "outputs": [],
      "source": [
        "#compile model\n",
        "modelrnn.compile(optimizer='adam',loss='categorical_crossentropy', metrics=['accuracy'])"
      ]
    },
    {
      "cell_type": "code",
      "execution_count": null,
      "metadata": {
        "colab": {
          "base_uri": "https://localhost:8080/"
        },
        "id": "uZ0qN3oH68xR",
        "outputId": "27e063cf-23e9-441d-833f-756585ca3cea"
      },
      "outputs": [
        {
          "output_type": "stream",
          "name": "stdout",
          "text": [
            "Epoch 1/50\n",
            "230/230 [==============================] - 20s 79ms/step - loss: 1.0476 - accuracy: 0.5664 - val_loss: 1.2190 - val_accuracy: 0.5399\n",
            "Epoch 2/50\n",
            "230/230 [==============================] - 11s 47ms/step - loss: 0.6504 - accuracy: 0.7252 - val_loss: 0.6328 - val_accuracy: 0.7526\n",
            "Epoch 3/50\n",
            "230/230 [==============================] - 9s 39ms/step - loss: 0.4561 - accuracy: 0.8186 - val_loss: 0.4855 - val_accuracy: 0.8229\n",
            "Epoch 4/50\n",
            "230/230 [==============================] - 9s 38ms/step - loss: 0.6107 - accuracy: 0.7621 - val_loss: 0.9818 - val_accuracy: 0.6176\n",
            "Epoch 5/50\n",
            "230/230 [==============================] - 9s 38ms/step - loss: 0.5743 - accuracy: 0.7705 - val_loss: 0.6716 - val_accuracy: 0.7089\n",
            "Epoch 6/50\n",
            "230/230 [==============================] - 9s 38ms/step - loss: 0.6076 - accuracy: 0.7603 - val_loss: 0.7876 - val_accuracy: 0.6702\n",
            "Epoch 7/50\n",
            "230/230 [==============================] - 9s 38ms/step - loss: 0.5352 - accuracy: 0.7839 - val_loss: 0.5839 - val_accuracy: 0.8212\n",
            "Epoch 8/50\n",
            "230/230 [==============================] - 9s 38ms/step - loss: 0.3636 - accuracy: 0.8651 - val_loss: 0.5370 - val_accuracy: 0.8222\n",
            "Epoch 9/50\n",
            "230/230 [==============================] - 9s 39ms/step - loss: 0.6115 - accuracy: 0.7727 - val_loss: 0.7349 - val_accuracy: 0.6695\n",
            "Epoch 10/50\n",
            "230/230 [==============================] - 9s 37ms/step - loss: 0.3677 - accuracy: 0.8485 - val_loss: 0.4970 - val_accuracy: 0.8507\n",
            "Epoch 11/50\n",
            "230/230 [==============================] - 9s 38ms/step - loss: 0.2878 - accuracy: 0.8900 - val_loss: 0.5982 - val_accuracy: 0.8161\n",
            "Epoch 12/50\n",
            "230/230 [==============================] - 9s 38ms/step - loss: 0.2649 - accuracy: 0.9010 - val_loss: 0.5350 - val_accuracy: 0.8062\n",
            "Epoch 13/50\n",
            "230/230 [==============================] - 9s 40ms/step - loss: 0.2685 - accuracy: 0.9030 - val_loss: 0.4494 - val_accuracy: 0.8517\n",
            "Epoch 14/50\n",
            "230/230 [==============================] - 9s 38ms/step - loss: 0.2468 - accuracy: 0.9094 - val_loss: 0.5335 - val_accuracy: 0.8242\n",
            "Epoch 15/50\n",
            "230/230 [==============================] - 9s 38ms/step - loss: 0.3644 - accuracy: 0.8659 - val_loss: 0.6049 - val_accuracy: 0.8347\n",
            "Epoch 16/50\n",
            "230/230 [==============================] - 9s 38ms/step - loss: 0.4546 - accuracy: 0.8179 - val_loss: 0.9778 - val_accuracy: 0.7333\n",
            "Epoch 17/50\n",
            "230/230 [==============================] - 9s 38ms/step - loss: 0.7296 - accuracy: 0.7152 - val_loss: 0.4804 - val_accuracy: 0.8107\n",
            "Epoch 18/50\n",
            "230/230 [==============================] - 9s 38ms/step - loss: 0.3486 - accuracy: 0.8671 - val_loss: 0.5222 - val_accuracy: 0.8283\n",
            "Epoch 19/50\n",
            "230/230 [==============================] - 9s 38ms/step - loss: 0.3347 - accuracy: 0.8789 - val_loss: 2.1281 - val_accuracy: 0.7153\n",
            "Epoch 20/50\n",
            "230/230 [==============================] - 9s 38ms/step - loss: 0.3469 - accuracy: 0.8802 - val_loss: 0.3518 - val_accuracy: 0.9030\n",
            "Epoch 21/50\n",
            "230/230 [==============================] - 9s 38ms/step - loss: 0.2573 - accuracy: 0.9026 - val_loss: 0.3926 - val_accuracy: 0.8578\n",
            "Epoch 22/50\n",
            "230/230 [==============================] - 9s 38ms/step - loss: 0.2342 - accuracy: 0.9113 - val_loss: 0.3473 - val_accuracy: 0.8948\n",
            "Epoch 23/50\n",
            "230/230 [==============================] - 9s 38ms/step - loss: 0.4798 - accuracy: 0.8192 - val_loss: 0.6549 - val_accuracy: 0.7173\n",
            "Epoch 24/50\n",
            "230/230 [==============================] - 9s 38ms/step - loss: 0.8368 - accuracy: 0.6481 - val_loss: 0.6734 - val_accuracy: 0.7258\n",
            "Epoch 25/50\n",
            "230/230 [==============================] - 9s 41ms/step - loss: 0.6055 - accuracy: 0.7440 - val_loss: 0.7039 - val_accuracy: 0.7102\n",
            "Epoch 26/50\n",
            "230/230 [==============================] - 9s 38ms/step - loss: 0.4804 - accuracy: 0.7922 - val_loss: 0.5717 - val_accuracy: 0.7503\n",
            "Epoch 27/50\n",
            "230/230 [==============================] - 9s 38ms/step - loss: 0.4311 - accuracy: 0.8220 - val_loss: 0.4555 - val_accuracy: 0.8124\n",
            "Epoch 28/50\n",
            "230/230 [==============================] - 9s 38ms/step - loss: 0.3515 - accuracy: 0.8562 - val_loss: 0.4438 - val_accuracy: 0.8110\n",
            "Epoch 29/50\n",
            "230/230 [==============================] - 9s 39ms/step - loss: 0.3345 - accuracy: 0.8628 - val_loss: 0.4080 - val_accuracy: 0.8375\n",
            "Epoch 30/50\n",
            "230/230 [==============================] - 9s 38ms/step - loss: 0.3267 - accuracy: 0.8658 - val_loss: 0.4487 - val_accuracy: 0.8476\n",
            "Epoch 31/50\n",
            "230/230 [==============================] - 9s 38ms/step - loss: 0.3799 - accuracy: 0.8557 - val_loss: 0.9172 - val_accuracy: 0.6658\n",
            "Epoch 32/50\n",
            "230/230 [==============================] - 9s 38ms/step - loss: 0.5907 - accuracy: 0.7761 - val_loss: 1.8809 - val_accuracy: 0.4499\n",
            "Epoch 33/50\n",
            "230/230 [==============================] - 9s 38ms/step - loss: 0.9497 - accuracy: 0.6228 - val_loss: 0.8273 - val_accuracy: 0.6457\n",
            "Epoch 34/50\n",
            "230/230 [==============================] - 9s 38ms/step - loss: 0.8015 - accuracy: 0.6766 - val_loss: 0.8050 - val_accuracy: 0.6722\n",
            "Epoch 35/50\n",
            "230/230 [==============================] - 9s 38ms/step - loss: 0.9721 - accuracy: 0.5975 - val_loss: 0.8220 - val_accuracy: 0.6641\n",
            "Epoch 36/50\n",
            "230/230 [==============================] - 9s 38ms/step - loss: 0.6651 - accuracy: 0.7213 - val_loss: 0.7026 - val_accuracy: 0.7211\n",
            "Epoch 37/50\n",
            "230/230 [==============================] - 9s 41ms/step - loss: 0.6202 - accuracy: 0.7379 - val_loss: 0.7442 - val_accuracy: 0.6912\n",
            "Epoch 38/50\n",
            "230/230 [==============================] - 9s 38ms/step - loss: 0.5791 - accuracy: 0.7529 - val_loss: 0.7315 - val_accuracy: 0.7014\n",
            "Epoch 39/50\n",
            "230/230 [==============================] - 9s 38ms/step - loss: 0.5333 - accuracy: 0.7712 - val_loss: 0.6993 - val_accuracy: 0.7000\n",
            "Epoch 40/50\n",
            "230/230 [==============================] - 9s 38ms/step - loss: 0.5114 - accuracy: 0.7848 - val_loss: 0.7183 - val_accuracy: 0.7275\n",
            "Epoch 41/50\n",
            "230/230 [==============================] - 9s 37ms/step - loss: 0.4859 - accuracy: 0.7964 - val_loss: 0.7309 - val_accuracy: 0.7350\n",
            "Epoch 42/50\n",
            "230/230 [==============================] - 9s 38ms/step - loss: 0.4697 - accuracy: 0.8011 - val_loss: 0.7042 - val_accuracy: 0.7394\n",
            "Epoch 43/50\n",
            "230/230 [==============================] - 9s 37ms/step - loss: 0.4551 - accuracy: 0.8107 - val_loss: 0.7218 - val_accuracy: 0.7363\n",
            "Epoch 44/50\n",
            "230/230 [==============================] - 9s 37ms/step - loss: 0.4529 - accuracy: 0.8146 - val_loss: 0.6703 - val_accuracy: 0.7475\n",
            "Epoch 45/50\n",
            "230/230 [==============================] - 9s 38ms/step - loss: 0.4184 - accuracy: 0.8251 - val_loss: 0.6484 - val_accuracy: 0.7777\n",
            "Epoch 46/50\n",
            "230/230 [==============================] - 9s 38ms/step - loss: 0.3930 - accuracy: 0.8406 - val_loss: 0.6596 - val_accuracy: 0.7825\n",
            "Epoch 47/50\n",
            "230/230 [==============================] - 9s 37ms/step - loss: 0.3738 - accuracy: 0.8490 - val_loss: 0.6594 - val_accuracy: 0.7862\n",
            "Epoch 48/50\n",
            "230/230 [==============================] - 9s 38ms/step - loss: 0.3563 - accuracy: 0.8570 - val_loss: 0.5990 - val_accuracy: 0.7940\n",
            "Epoch 49/50\n",
            "230/230 [==============================] - 9s 38ms/step - loss: 0.4171 - accuracy: 0.8413 - val_loss: 0.6902 - val_accuracy: 0.7859\n",
            "Epoch 50/50\n",
            "230/230 [==============================] - 9s 38ms/step - loss: 0.3924 - accuracy: 0.8451 - val_loss: 0.6378 - val_accuracy: 0.8107\n"
          ]
        }
      ],
      "source": [
        "#fitting model\n",
        "history=modelrnn.fit(trainX,trainy,epochs=50,validation_data=(testX,testy))"
      ]
    },
    {
      "cell_type": "code",
      "execution_count": null,
      "metadata": {
        "colab": {
          "base_uri": "https://localhost:8080/"
        },
        "id": "xrEBM8Kn8QfP",
        "outputId": "2561a6e3-b61e-4c83-cf96-f91f051096e8"
      },
      "outputs": [
        {
          "output_type": "stream",
          "name": "stdout",
          "text": [
            "93/93 [==============================] - 1s 12ms/step - loss: 0.6378 - accuracy: 0.8107\n"
          ]
        },
        {
          "output_type": "execute_result",
          "data": {
            "text/plain": [
              "[0.6378424167633057, 0.810654878616333]"
            ]
          },
          "metadata": {},
          "execution_count": 21
        }
      ],
      "source": [
        "modelrnn.evaluate(testX, testy)"
      ]
    },
    {
      "cell_type": "code",
      "execution_count": null,
      "metadata": {
        "id": "mZ7UVfWh8bql"
      },
      "outputs": [],
      "source": [
        "r_pred = modelrnn.predict(testX)\n",
        "# print(r_pred)\n",
        "# classes_x = (modelrnn.predict(testX) > 0.5)*1 \n",
        "# print(classes_x)"
      ]
    },
    {
      "cell_type": "markdown",
      "metadata": {
        "id": "iRuUq_uW9g8i"
      },
      "source": [
        "# Plotting Curves for Accuracy and Loss"
      ]
    },
    {
      "cell_type": "code",
      "execution_count": null,
      "metadata": {
        "colab": {
          "base_uri": "https://localhost:8080/",
          "height": 295
        },
        "id": "M-XljG8p9iSY",
        "outputId": "3cb8db0c-a448-4d93-f42e-23fc32e5e322"
      },
      "outputs": [
        {
          "output_type": "display_data",
          "data": {
            "text/plain": [
              "<Figure size 432x288 with 1 Axes>"
            ],
            "image/png": "[encoded data removed]"
          },
          "metadata": {
            "needs_background": "light"
          }
        }
      ],
      "source": [
        "plt.figure(figsize=(6, 4))\n",
        "plt.plot(history.history['accuracy'],'r', label='Accuracy of training data')\n",
        "plt.plot(history.history['val_accuracy'],'g', label='Accuracy of validation data')\n",
        "plt.title('Model Accuracy')\n",
        "plt.xlabel('Epochs')\n",
        "plt.ylabel('Accuracy')\n",
        "plt.legend(loc='lower right')\n",
        "plt.show()"
      ]
    },
    {
      "cell_type": "code",
      "execution_count": null,
      "metadata": {
        "colab": {
          "base_uri": "https://localhost:8080/",
          "height": 295
        },
        "id": "o3rPm1Yr9qzB",
        "outputId": "d22481c2-c21c-48db-fe7f-9a919f14e150"
      },
      "outputs": [
        {
          "output_type": "display_data",
          "data": {
            "text/plain": [
              "<Figure size 432x288 with 1 Axes>"
            ],
            "image/png": "[encoded data removed]"
          },
          "metadata": {
            "needs_background": "light"
          }
        }
      ],
      "source": [
        "plt.figure(figsize=(6, 4))\n",
        "plt.plot(history.history['loss'],'r', label='Loss of training data')\n",
        "plt.plot(history.history['val_loss'],'g', label='Loss of validation data')\n",
        "plt.title('Model Loss')\n",
        "plt.xlabel('Epochs')\n",
        "plt.ylabel('Loss')\n",
        "plt.legend(loc='upper right')\n",
        "plt.show()"
      ]
    },
    {
      "cell_type": "markdown",
      "metadata": {
        "id": "TOYMmkpY9v32"
      },
      "source": [
        "# Classification Report"
      ]
    },
    {
      "cell_type": "code",
      "execution_count": null,
      "metadata": {
        "colab": {
          "base_uri": "https://localhost:8080/"
        },
        "id": "PchAqr-79wzm",
        "outputId": "70419327-c1dd-41ce-878a-6fe1ca07fbf9"
      },
      "outputs": [
        {
          "output_type": "stream",
          "name": "stdout",
          "text": [
            "\n",
            "Classification Report\n",
            "\n",
            "                    precision    recall  f1-score   support\n",
            "\n",
            "           WALKING       0.76      0.63      0.69       496\n",
            "  WALKING_UPSTAIRS       0.71      0.72      0.71       471\n",
            "WALKING_DOWNSTAIRS       0.82      0.94      0.88       420\n",
            "           SITTING       0.86      0.72      0.78       491\n",
            "          STANDING       0.74      0.90      0.81       532\n",
            "            LAYING       1.00      0.95      0.97       537\n",
            "\n",
            "          accuracy                           0.81      2947\n",
            "         macro avg       0.81      0.81      0.81      2947\n",
            "      weighted avg       0.82      0.81      0.81      2947\n",
            "\n"
          ]
        }
      ],
      "source": [
        "from sklearn.metrics import classification_report\n",
        "y_pred = modelrnn.predict(testX)\n",
        "y_pred_classes = [np.argmax(element) for element in y_pred]\n",
        "print('\\nClassification Report\\n')\n",
        "print(classification_report(testr, y_pred_classes, target_names=[\"WALKING\", \"WALKING_UPSTAIRS\", \"WALKING_DOWNSTAIRS\", \"SITTING\", \"STANDING\", \"LAYING\"]))\n",
        "#here we needed testr not testy"
      ]
    },
    {
      "cell_type": "markdown",
      "metadata": {
        "id": "7GkiRyqC99kO"
      },
      "source": [
        "## We can see RNN model gives an accuracy of 86%"
      ]
    },
    {
      "cell_type": "markdown",
      "metadata": {
        "id": "8u8ZipjM9_IE"
      },
      "source": [
        "# LSTM model"
      ]
    },
    {
      "cell_type": "code",
      "execution_count": null,
      "metadata": {
        "id": "8fGdpK_X-I-c"
      },
      "outputs": [],
      "source": [
        "from keras.layers import LSTM"
      ]
    },
    {
      "cell_type": "code",
      "execution_count": null,
      "metadata": {
        "id": "0sy-lBSXNoiB"
      },
      "outputs": [],
      "source": [
        "#building a LSTM\n",
        "#model creation\n",
        "modellstm = Sequential()\n",
        "modellstm.add(LSTM(units = 128,input_shape=(trainX.shape[1:]),return_sequences=True))\n",
        "modellstm.add(LSTM(units = 64))\n",
        "modellstm.add(Dense(units = 64, activation='relu'))\n",
        "modellstm.add(Dense(units = 6 , activation='sigmoid'))"
      ]
    },
    {
      "cell_type": "code",
      "execution_count": null,
      "metadata": {
        "id": "_o6Sv3mgQCE3"
      },
      "outputs": [],
      "source": [
        "modellstm.compile(optimizer='adam',loss='categorical_crossentropy', metrics=['accuracy'])"
      ]
    },
    {
      "cell_type": "code",
      "execution_count": null,
      "metadata": {
        "colab": {
          "base_uri": "https://localhost:8080/"
        },
        "id": "i-VqL7W0QHzL",
        "outputId": "60ab6531-b632-4fec-dfa5-c6cca65de53f"
      },
      "outputs": [
        {
          "output_type": "stream",
          "name": "stdout",
          "text": [
            "Model: \"sequential_1\"\n",
            "_________________________________________________________________\n",
            " Layer (type)                Output Shape              Param #   \n",
            "=================================================================\n",
            " lstm (LSTM)                 (None, 128, 128)          70656     \n",
            "                                                                 \n",
            " lstm_1 (LSTM)               (None, 64)                49408     \n",
            "                                                                 \n",
            " dense_2 (Dense)             (None, 64)                4160      \n",
            "                                                                 \n",
            " dense_3 (Dense)             (None, 6)                 390       \n",
            "                                                                 \n",
            "=================================================================\n",
            "Total params: 124,614\n",
            "Trainable params: 124,614\n",
            "Non-trainable params: 0\n",
            "_________________________________________________________________\n"
          ]
        }
      ],
      "source": [
        "modellstm.summary()"
      ]
    },
    {
      "cell_type": "code",
      "execution_count": null,
      "metadata": {
        "colab": {
          "base_uri": "https://localhost:8080/"
        },
        "id": "GhlItiQqQSQV",
        "outputId": "4dbdc2cf-71ca-49d4-8173-4f433209c953"
      },
      "outputs": [
        {
          "output_type": "stream",
          "name": "stdout",
          "text": [
            "Epoch 1/50\n",
            "230/230 [==============================] - 52s 213ms/step - loss: 0.8998 - accuracy: 0.6368 - val_loss: 0.6531 - val_accuracy: 0.7380\n",
            "Epoch 2/50\n",
            "230/230 [==============================] - 48s 209ms/step - loss: 0.4404 - accuracy: 0.8369 - val_loss: 0.4490 - val_accuracy: 0.8439\n",
            "Epoch 3/50\n",
            "230/230 [==============================] - 48s 208ms/step - loss: 0.2171 - accuracy: 0.9215 - val_loss: 0.5471 - val_accuracy: 0.8551\n",
            "Epoch 4/50\n",
            "230/230 [==============================] - 48s 210ms/step - loss: 0.2303 - accuracy: 0.9168 - val_loss: 0.3628 - val_accuracy: 0.8945\n",
            "Epoch 5/50\n",
            "230/230 [==============================] - 48s 209ms/step - loss: 0.1632 - accuracy: 0.9346 - val_loss: 0.4159 - val_accuracy: 0.8605\n",
            "Epoch 6/50\n",
            "230/230 [==============================] - 48s 210ms/step - loss: 0.1571 - accuracy: 0.9344 - val_loss: 0.3730 - val_accuracy: 0.8836\n",
            "Epoch 7/50\n",
            "230/230 [==============================] - 48s 210ms/step - loss: 0.2234 - accuracy: 0.9176 - val_loss: 0.3526 - val_accuracy: 0.8962\n",
            "Epoch 8/50\n",
            "230/230 [==============================] - 48s 209ms/step - loss: 0.1435 - accuracy: 0.9431 - val_loss: 0.3295 - val_accuracy: 0.9030\n",
            "Epoch 9/50\n",
            "230/230 [==============================] - 48s 209ms/step - loss: 0.1176 - accuracy: 0.9508 - val_loss: 0.3114 - val_accuracy: 0.9108\n",
            "Epoch 10/50\n",
            "230/230 [==============================] - 48s 209ms/step - loss: 0.1219 - accuracy: 0.9479 - val_loss: 0.3431 - val_accuracy: 0.9026\n",
            "Epoch 11/50\n",
            "230/230 [==============================] - 48s 209ms/step - loss: 0.1208 - accuracy: 0.9510 - val_loss: 0.3375 - val_accuracy: 0.9091\n",
            "Epoch 12/50\n",
            "230/230 [==============================] - 48s 208ms/step - loss: 0.1092 - accuracy: 0.9547 - val_loss: 0.4490 - val_accuracy: 0.8999\n",
            "Epoch 13/50\n",
            "230/230 [==============================] - 48s 209ms/step - loss: 0.1399 - accuracy: 0.9446 - val_loss: 0.2745 - val_accuracy: 0.9026\n",
            "Epoch 14/50\n",
            "230/230 [==============================] - 48s 209ms/step - loss: 0.1173 - accuracy: 0.9527 - val_loss: 0.2598 - val_accuracy: 0.9186\n",
            "Epoch 15/50\n",
            "230/230 [==============================] - 48s 208ms/step - loss: 0.1239 - accuracy: 0.9449 - val_loss: 0.3362 - val_accuracy: 0.8877\n",
            "Epoch 16/50\n",
            "230/230 [==============================] - 48s 208ms/step - loss: 0.1588 - accuracy: 0.9381 - val_loss: 0.3302 - val_accuracy: 0.8982\n",
            "Epoch 17/50\n",
            "230/230 [==============================] - 48s 208ms/step - loss: 0.1236 - accuracy: 0.9475 - val_loss: 0.3091 - val_accuracy: 0.9057\n",
            "Epoch 18/50\n",
            "230/230 [==============================] - 48s 208ms/step - loss: 0.1091 - accuracy: 0.9524 - val_loss: 0.2962 - val_accuracy: 0.9114\n",
            "Epoch 19/50\n",
            "230/230 [==============================] - 48s 208ms/step - loss: 0.1043 - accuracy: 0.9553 - val_loss: 0.2931 - val_accuracy: 0.9111\n",
            "Epoch 20/50\n",
            "230/230 [==============================] - 48s 208ms/step - loss: 0.1087 - accuracy: 0.9543 - val_loss: 0.3209 - val_accuracy: 0.9087\n",
            "Epoch 21/50\n",
            "230/230 [==============================] - 48s 208ms/step - loss: 0.1182 - accuracy: 0.9521 - val_loss: 0.4034 - val_accuracy: 0.8812\n",
            "Epoch 22/50\n",
            "230/230 [==============================] - 48s 208ms/step - loss: 0.1114 - accuracy: 0.9546 - val_loss: 0.5280 - val_accuracy: 0.8823\n",
            "Epoch 23/50\n",
            "230/230 [==============================] - 48s 208ms/step - loss: 0.1155 - accuracy: 0.9517 - val_loss: 0.3205 - val_accuracy: 0.9108\n",
            "Epoch 24/50\n",
            "230/230 [==============================] - 48s 207ms/step - loss: 0.1030 - accuracy: 0.9587 - val_loss: 0.3961 - val_accuracy: 0.8972\n",
            "Epoch 25/50\n",
            "230/230 [==============================] - 48s 208ms/step - loss: 0.1338 - accuracy: 0.9499 - val_loss: 0.3267 - val_accuracy: 0.9040\n",
            "Epoch 26/50\n",
            "230/230 [==============================] - 48s 209ms/step - loss: 0.1163 - accuracy: 0.9532 - val_loss: 0.4423 - val_accuracy: 0.8911\n",
            "Epoch 27/50\n",
            "230/230 [==============================] - 48s 207ms/step - loss: 0.1309 - accuracy: 0.9493 - val_loss: 0.3253 - val_accuracy: 0.9060\n",
            "Epoch 28/50\n",
            "230/230 [==============================] - 48s 208ms/step - loss: 0.1041 - accuracy: 0.9565 - val_loss: 0.3189 - val_accuracy: 0.9070\n",
            "Epoch 29/50\n",
            "230/230 [==============================] - 48s 207ms/step - loss: 0.1071 - accuracy: 0.9548 - val_loss: 0.3509 - val_accuracy: 0.8982\n",
            "Epoch 30/50\n",
            "230/230 [==============================] - 48s 207ms/step - loss: 0.1008 - accuracy: 0.9566 - val_loss: 0.3290 - val_accuracy: 0.9094\n",
            "Epoch 31/50\n",
            "230/230 [==============================] - 48s 207ms/step - loss: 0.1018 - accuracy: 0.9557 - val_loss: 0.3453 - val_accuracy: 0.9097\n",
            "Epoch 32/50\n",
            "230/230 [==============================] - 48s 208ms/step - loss: 0.1009 - accuracy: 0.9562 - val_loss: 0.3428 - val_accuracy: 0.9104\n",
            "Epoch 33/50\n",
            "230/230 [==============================] - 48s 208ms/step - loss: 0.1380 - accuracy: 0.9461 - val_loss: 0.3206 - val_accuracy: 0.9131\n",
            "Epoch 34/50\n",
            "230/230 [==============================] - 48s 208ms/step - loss: 0.1167 - accuracy: 0.9531 - val_loss: 0.4445 - val_accuracy: 0.9019\n",
            "Epoch 35/50\n",
            "230/230 [==============================] - 48s 209ms/step - loss: 0.1020 - accuracy: 0.9581 - val_loss: 0.4845 - val_accuracy: 0.8996\n",
            "Epoch 36/50\n",
            "230/230 [==============================] - 48s 208ms/step - loss: 0.1051 - accuracy: 0.9557 - val_loss: 0.4840 - val_accuracy: 0.8972\n",
            "Epoch 37/50\n",
            "230/230 [==============================] - 48s 208ms/step - loss: 0.1017 - accuracy: 0.9574 - val_loss: 0.4902 - val_accuracy: 0.8996\n",
            "Epoch 38/50\n",
            "230/230 [==============================] - 48s 208ms/step - loss: 0.0971 - accuracy: 0.9577 - val_loss: 0.4839 - val_accuracy: 0.8996\n",
            "Epoch 39/50\n",
            "230/230 [==============================] - 48s 209ms/step - loss: 0.1177 - accuracy: 0.9532 - val_loss: 0.3455 - val_accuracy: 0.9084\n",
            "Epoch 40/50\n",
            "230/230 [==============================] - 48s 209ms/step - loss: 0.1104 - accuracy: 0.9539 - val_loss: 0.2943 - val_accuracy: 0.9087\n",
            "Epoch 41/50\n",
            "230/230 [==============================] - 48s 208ms/step - loss: 0.1006 - accuracy: 0.9566 - val_loss: 0.3436 - val_accuracy: 0.9165\n",
            "Epoch 42/50\n",
            "230/230 [==============================] - 48s 208ms/step - loss: 0.0949 - accuracy: 0.9573 - val_loss: 0.3262 - val_accuracy: 0.9053\n",
            "Epoch 43/50\n",
            "230/230 [==============================] - 48s 208ms/step - loss: 0.0942 - accuracy: 0.9595 - val_loss: 0.3599 - val_accuracy: 0.8972\n",
            "Epoch 44/50\n",
            "230/230 [==============================] - 48s 208ms/step - loss: 0.0988 - accuracy: 0.9591 - val_loss: 0.4475 - val_accuracy: 0.9050\n",
            "Epoch 45/50\n",
            "230/230 [==============================] - 48s 209ms/step - loss: 0.0920 - accuracy: 0.9597 - val_loss: 0.4435 - val_accuracy: 0.9104\n",
            "Epoch 46/50\n",
            "230/230 [==============================] - 48s 208ms/step - loss: 0.0926 - accuracy: 0.9603 - val_loss: 0.3949 - val_accuracy: 0.9019\n",
            "Epoch 47/50\n",
            "230/230 [==============================] - 48s 208ms/step - loss: 0.0986 - accuracy: 0.9572 - val_loss: 0.3702 - val_accuracy: 0.8985\n",
            "Epoch 48/50\n",
            "230/230 [==============================] - 48s 208ms/step - loss: 0.0997 - accuracy: 0.9573 - val_loss: 0.3269 - val_accuracy: 0.9145\n",
            "Epoch 49/50\n",
            "230/230 [==============================] - 48s 209ms/step - loss: 0.0885 - accuracy: 0.9627 - val_loss: 0.3126 - val_accuracy: 0.9270\n",
            "Epoch 50/50\n",
            "230/230 [==============================] - 48s 209ms/step - loss: 0.0964 - accuracy: 0.9599 - val_loss: 0.3599 - val_accuracy: 0.9016\n"
          ]
        }
      ],
      "source": [
        "historyy=modellstm.fit(trainX,trainy,epochs=50,validation_data=(testX,testy))"
      ]
    },
    {
      "cell_type": "code",
      "execution_count": null,
      "metadata": {
        "colab": {
          "base_uri": "https://localhost:8080/"
        },
        "id": "d7oOw5u0xjBi",
        "outputId": "ac799759-b1eb-4b20-80e9-dade0bb8b6e3"
      },
      "outputs": [
        {
          "output_type": "stream",
          "name": "stdout",
          "text": [
            "93/93 [==============================] - 5s 56ms/step - loss: 0.3599 - accuracy: 0.9016\n"
          ]
        },
        {
          "output_type": "execute_result",
          "data": {
            "text/plain": [
              "[0.35991668701171875, 0.9015948176383972]"
            ]
          },
          "metadata": {},
          "execution_count": 31
        }
      ],
      "source": [
        "modellstm.evaluate(testX, testy)"
      ]
    },
    {
      "cell_type": "code",
      "execution_count": null,
      "metadata": {
        "id": "vUDr3wmwxj7f"
      },
      "outputs": [],
      "source": [
        "r_pred = modellstm.predict(testX)"
      ]
    },
    {
      "cell_type": "markdown",
      "metadata": {
        "id": "0tFzRwXhxrCh"
      },
      "source": [
        "# Plotting Curves for Accuracy and Loss"
      ]
    },
    {
      "cell_type": "code",
      "execution_count": null,
      "metadata": {
        "colab": {
          "base_uri": "https://localhost:8080/",
          "height": 295
        },
        "id": "As8gLbPMxuSu",
        "outputId": "ff30fa77-2fb0-42ef-d33a-52892d1f3a80"
      },
      "outputs": [
        {
          "output_type": "display_data",
          "data": {
            "text/plain": [
              "<Figure size 432x288 with 1 Axes>"
            ],
            "image/png": "[encoded data removed]"
          },
          "metadata": {
            "needs_background": "light"
          }
        }
      ],
      "source": [
        "plt.figure(figsize=(6, 4))\n",
        "plt.plot(historyy.history['accuracy'],'r', label='Accuracy of training data')\n",
        "plt.plot(historyy.history['val_accuracy'],'g', label='Accuracy of validation data')\n",
        "plt.title('Model Accuracy')\n",
        "plt.xlabel('Epochs')\n",
        "plt.ylabel('Accuracy')\n",
        "plt.legend(loc='lower right')\n",
        "plt.show()"
      ]
    },
    {
      "cell_type": "code",
      "execution_count": null,
      "metadata": {
        "colab": {
          "base_uri": "https://localhost:8080/",
          "height": 295
        },
        "id": "dBp7-YS1yEKX",
        "outputId": "57e03fce-a6f0-469b-800d-65bfd9918ffa"
      },
      "outputs": [
        {
          "output_type": "display_data",
          "data": {
            "text/plain": [
              "<Figure size 432x288 with 1 Axes>"
            ],
            "image/png": "[encoded data removed]"
          },
          "metadata": {
            "needs_background": "light"
          }
        }
      ],
      "source": [
        "plt.figure(figsize=(6, 4))\n",
        "plt.plot(historyy.history['loss'],'r', label='Loss of training data')\n",
        "plt.plot(historyy.history['val_loss'],'g', label='Loss of validation data')\n",
        "plt.title('Model Loss')\n",
        "plt.xlabel('Epochs')\n",
        "plt.ylabel('Loss')\n",
        "plt.legend(loc='upper right')\n",
        "plt.show()"
      ]
    },
    {
      "cell_type": "markdown",
      "metadata": {
        "id": "N2wYsbx2yof5"
      },
      "source": [
        "# Classification Report"
      ]
    },
    {
      "cell_type": "code",
      "execution_count": null,
      "metadata": {
        "colab": {
          "base_uri": "https://localhost:8080/"
        },
        "id": "VICux5Twyr9P",
        "outputId": "e3a40628-8e1a-4f3f-828d-d1e222dfc4ec"
      },
      "outputs": [
        {
          "output_type": "stream",
          "name": "stdout",
          "text": [
            "\n",
            "Classification Report\n",
            "\n",
            "                    precision    recall  f1-score   support\n",
            "\n",
            "           WALKING       0.92      0.95      0.93       496\n",
            "  WALKING_UPSTAIRS       0.92      0.91      0.92       471\n",
            "WALKING_DOWNSTAIRS       0.95      0.92      0.93       420\n",
            "           SITTING       0.87      0.73      0.79       491\n",
            "          STANDING       0.79      0.90      0.84       532\n",
            "            LAYING       0.99      1.00      0.99       537\n",
            "\n",
            "          accuracy                           0.90      2947\n",
            "         macro avg       0.90      0.90      0.90      2947\n",
            "      weighted avg       0.90      0.90      0.90      2947\n",
            "\n"
          ]
        }
      ],
      "source": [
        "from sklearn.metrics import classification_report\n",
        "y_pred = modellstm.predict(testX)\n",
        "y_pred_classes = [np.argmax(element) for element in y_pred]\n",
        "print('\\nClassification Report\\n')\n",
        "print(classification_report(testr, y_pred_classes, target_names=[\"WALKING\", \"WALKING_UPSTAIRS\", \"WALKING_DOWNSTAIRS\", \"SITTING\", \"STANDING\", \"LAYING\"]))\n",
        "#here we needed testr not testy"
      ]
    },
    {
      "cell_type": "markdown",
      "metadata": {
        "id": "UCnjtMKsy0cS"
      },
      "source": [
        "# We can see LSTM model gives an accuracy of 90%\n",
        "Therefore we can say LSTM works well on time-series data."
      ]
    },
    {
      "cell_type": "markdown",
      "metadata": {
        "id": "uqFHXL613aYF"
      },
      "source": [
        "# **GRU Model**"
      ]
    },
    {
      "cell_type": "code",
      "execution_count": null,
      "metadata": {
        "id": "szAc_TuL3kES"
      },
      "outputs": [],
      "source": [
        "from keras.layers import GRU"
      ]
    },
    {
      "cell_type": "code",
      "execution_count": null,
      "metadata": {
        "id": "Rp9TO1RV3lzq"
      },
      "outputs": [],
      "source": [
        "#building a GRU\n",
        "#model creation\n",
        "modelgru = Sequential()\n",
        "modelgru.add(GRU(units = 128,input_shape=(trainX.shape[1:]),return_sequences=True))\n",
        "modelgru.add(GRU(units = 64))\n",
        "modelgru.add(Dense(units = 64, activation='relu'))\n",
        "modelgru.add(Dense(units = 6 , activation='sigmoid'))"
      ]
    },
    {
      "cell_type": "code",
      "execution_count": null,
      "metadata": {
        "id": "TnsoWbjD3nxs"
      },
      "outputs": [],
      "source": [
        "modelgru.compile(optimizer='adam',loss='categorical_crossentropy', metrics=['accuracy'])"
      ]
    },
    {
      "cell_type": "code",
      "execution_count": null,
      "metadata": {
        "colab": {
          "base_uri": "https://localhost:8080/"
        },
        "id": "2V1gYo5u3p4X",
        "outputId": "66839d29-d09c-4d89-e96e-1c48b26a2838"
      },
      "outputs": [
        {
          "output_type": "stream",
          "name": "stdout",
          "text": [
            "Model: \"sequential_2\"\n",
            "_________________________________________________________________\n",
            " Layer (type)                Output Shape              Param #   \n",
            "=================================================================\n",
            " gru (GRU)                   (None, 128, 128)          53376     \n",
            "                                                                 \n",
            " gru_1 (GRU)                 (None, 64)                37248     \n",
            "                                                                 \n",
            " dense_4 (Dense)             (None, 64)                4160      \n",
            "                                                                 \n",
            " dense_5 (Dense)             (None, 6)                 390       \n",
            "                                                                 \n",
            "=================================================================\n",
            "Total params: 95,174\n",
            "Trainable params: 95,174\n",
            "Non-trainable params: 0\n",
            "_________________________________________________________________\n"
          ]
        }
      ],
      "source": [
        "modelgru.summary()"
      ]
    },
    {
      "cell_type": "code",
      "execution_count": null,
      "metadata": {
        "colab": {
          "base_uri": "https://localhost:8080/"
        },
        "id": "-kzAUbD43sEG",
        "outputId": "8e7dcb4a-650a-48ee-bf25-bedb5ddd6cfa"
      },
      "outputs": [
        {
          "output_type": "stream",
          "name": "stdout",
          "text": [
            "Epoch 1/50\n",
            "230/230 [==============================] - 46s 184ms/step - loss: 0.9150 - accuracy: 0.6268 - val_loss: 0.5901 - val_accuracy: 0.7794\n",
            "Epoch 2/50\n",
            "230/230 [==============================] - 41s 180ms/step - loss: 0.2198 - accuracy: 0.9172 - val_loss: 0.3726 - val_accuracy: 0.8707\n",
            "Epoch 3/50\n",
            "230/230 [==============================] - 41s 180ms/step - loss: 0.1463 - accuracy: 0.9441 - val_loss: 0.3535 - val_accuracy: 0.8880\n",
            "Epoch 4/50\n",
            "230/230 [==============================] - 41s 180ms/step - loss: 0.1532 - accuracy: 0.9382 - val_loss: 0.3147 - val_accuracy: 0.9060\n",
            "Epoch 5/50\n",
            "230/230 [==============================] - 41s 180ms/step - loss: 0.1257 - accuracy: 0.9505 - val_loss: 0.3305 - val_accuracy: 0.8941\n",
            "Epoch 6/50\n",
            "230/230 [==============================] - 42s 181ms/step - loss: 0.1241 - accuracy: 0.9490 - val_loss: 0.2509 - val_accuracy: 0.9013\n",
            "Epoch 7/50\n",
            "230/230 [==============================] - 42s 181ms/step - loss: 0.1161 - accuracy: 0.9523 - val_loss: 0.2797 - val_accuracy: 0.9148\n",
            "Epoch 8/50\n",
            "230/230 [==============================] - 41s 180ms/step - loss: 0.1136 - accuracy: 0.9518 - val_loss: 0.2727 - val_accuracy: 0.9026\n",
            "Epoch 9/50\n",
            "230/230 [==============================] - 42s 181ms/step - loss: 0.1169 - accuracy: 0.9538 - val_loss: 0.2772 - val_accuracy: 0.9148\n",
            "Epoch 10/50\n",
            "230/230 [==============================] - 42s 181ms/step - loss: 0.1245 - accuracy: 0.9504 - val_loss: 0.3877 - val_accuracy: 0.8951\n",
            "Epoch 11/50\n",
            "230/230 [==============================] - 41s 180ms/step - loss: 0.1193 - accuracy: 0.9505 - val_loss: 0.3283 - val_accuracy: 0.9186\n",
            "Epoch 12/50\n",
            "230/230 [==============================] - 42s 180ms/step - loss: 0.1057 - accuracy: 0.9565 - val_loss: 0.3121 - val_accuracy: 0.9097\n",
            "Epoch 13/50\n",
            "230/230 [==============================] - 41s 180ms/step - loss: 0.1042 - accuracy: 0.9553 - val_loss: 0.3130 - val_accuracy: 0.9186\n",
            "Epoch 14/50\n",
            "230/230 [==============================] - 42s 181ms/step - loss: 0.1000 - accuracy: 0.9615 - val_loss: 0.2843 - val_accuracy: 0.9070\n",
            "Epoch 15/50\n",
            "230/230 [==============================] - 42s 181ms/step - loss: 0.1193 - accuracy: 0.9536 - val_loss: 0.2701 - val_accuracy: 0.9080\n",
            "Epoch 16/50\n",
            "230/230 [==============================] - 42s 181ms/step - loss: 0.1008 - accuracy: 0.9591 - val_loss: 0.2466 - val_accuracy: 0.9186\n",
            "Epoch 17/50\n",
            "230/230 [==============================] - 41s 180ms/step - loss: 0.0920 - accuracy: 0.9634 - val_loss: 0.2733 - val_accuracy: 0.9189\n",
            "Epoch 18/50\n",
            "230/230 [==============================] - 42s 181ms/step - loss: 0.0887 - accuracy: 0.9618 - val_loss: 0.2821 - val_accuracy: 0.9264\n",
            "Epoch 19/50\n",
            "230/230 [==============================] - 42s 181ms/step - loss: 0.0816 - accuracy: 0.9668 - val_loss: 0.3115 - val_accuracy: 0.9162\n",
            "Epoch 20/50\n",
            "230/230 [==============================] - 41s 180ms/step - loss: 0.0926 - accuracy: 0.9619 - val_loss: 0.2668 - val_accuracy: 0.8965\n",
            "Epoch 21/50\n",
            "230/230 [==============================] - 42s 181ms/step - loss: 0.0878 - accuracy: 0.9642 - val_loss: 0.2749 - val_accuracy: 0.9141\n",
            "Epoch 22/50\n",
            "230/230 [==============================] - 42s 182ms/step - loss: 0.0820 - accuracy: 0.9644 - val_loss: 0.2777 - val_accuracy: 0.9328\n",
            "Epoch 23/50\n",
            "230/230 [==============================] - 42s 181ms/step - loss: 0.0740 - accuracy: 0.9701 - val_loss: 0.2501 - val_accuracy: 0.9372\n",
            "Epoch 24/50\n",
            "230/230 [==============================] - 42s 181ms/step - loss: 0.0737 - accuracy: 0.9697 - val_loss: 0.4019 - val_accuracy: 0.9118\n",
            "Epoch 25/50\n",
            "230/230 [==============================] - 42s 182ms/step - loss: 0.0829 - accuracy: 0.9671 - val_loss: 0.2909 - val_accuracy: 0.9220\n",
            "Epoch 26/50\n",
            "230/230 [==============================] - 42s 181ms/step - loss: 0.0711 - accuracy: 0.9712 - val_loss: 0.3057 - val_accuracy: 0.9203\n",
            "Epoch 27/50\n",
            "230/230 [==============================] - 41s 180ms/step - loss: 0.0667 - accuracy: 0.9739 - val_loss: 0.3087 - val_accuracy: 0.9253\n",
            "Epoch 28/50\n",
            "230/230 [==============================] - 42s 181ms/step - loss: 0.0652 - accuracy: 0.9728 - val_loss: 0.3121 - val_accuracy: 0.9264\n",
            "Epoch 29/50\n",
            "230/230 [==============================] - 42s 182ms/step - loss: 0.0624 - accuracy: 0.9740 - val_loss: 0.2379 - val_accuracy: 0.9379\n",
            "Epoch 30/50\n",
            "230/230 [==============================] - 42s 182ms/step - loss: 0.0656 - accuracy: 0.9725 - val_loss: 0.2580 - val_accuracy: 0.9460\n",
            "Epoch 31/50\n",
            "230/230 [==============================] - 42s 183ms/step - loss: 0.0689 - accuracy: 0.9718 - val_loss: 0.2092 - val_accuracy: 0.9406\n",
            "Epoch 32/50\n",
            "230/230 [==============================] - 42s 182ms/step - loss: 0.0580 - accuracy: 0.9778 - val_loss: 0.2199 - val_accuracy: 0.9410\n",
            "Epoch 33/50\n",
            "230/230 [==============================] - 42s 182ms/step - loss: 0.0602 - accuracy: 0.9763 - val_loss: 0.2937 - val_accuracy: 0.9257\n",
            "Epoch 34/50\n",
            "230/230 [==============================] - 42s 182ms/step - loss: 0.0570 - accuracy: 0.9774 - val_loss: 0.2322 - val_accuracy: 0.9386\n",
            "Epoch 35/50\n",
            "230/230 [==============================] - 42s 182ms/step - loss: 0.0514 - accuracy: 0.9784 - val_loss: 0.3082 - val_accuracy: 0.9267\n",
            "Epoch 36/50\n",
            "230/230 [==============================] - 42s 182ms/step - loss: 0.0544 - accuracy: 0.9793 - val_loss: 0.2368 - val_accuracy: 0.9352\n",
            "Epoch 37/50\n",
            "230/230 [==============================] - 42s 182ms/step - loss: 0.0522 - accuracy: 0.9786 - val_loss: 0.3073 - val_accuracy: 0.9237\n",
            "Epoch 38/50\n",
            "230/230 [==============================] - 42s 182ms/step - loss: 0.0512 - accuracy: 0.9814 - val_loss: 0.3189 - val_accuracy: 0.9301\n",
            "Epoch 39/50\n",
            "230/230 [==============================] - 42s 183ms/step - loss: 0.0486 - accuracy: 0.9801 - val_loss: 0.3166 - val_accuracy: 0.9325\n",
            "Epoch 40/50\n",
            "230/230 [==============================] - 42s 184ms/step - loss: 0.0362 - accuracy: 0.9854 - val_loss: 0.2881 - val_accuracy: 0.9332\n",
            "Epoch 41/50\n",
            "161/230 [====================>.........] - ETA: 11s - loss: 0.0422 - accuracy: 0.9835"
          ]
        }
      ],
      "source": [
        "history=modelgru.fit(trainX,trainy,epochs=50,validation_data=(testX,testy))"
      ]
    },
    {
      "cell_type": "code",
      "execution_count": null,
      "metadata": {
        "id": "_QZBPRaa3s-M"
      },
      "outputs": [],
      "source": [
        "modelgru.evaluate(testX, testy)"
      ]
    },
    {
      "cell_type": "code",
      "execution_count": null,
      "metadata": {
        "id": "wWhke1IN3vyx"
      },
      "outputs": [],
      "source": [
        "r_pred = modelgru.predict(testX)"
      ]
    },
    {
      "cell_type": "markdown",
      "metadata": {
        "id": "-nFCyTi334mq"
      },
      "source": [
        "# Plotting Curves for Accuracy and Loss"
      ]
    },
    {
      "cell_type": "code",
      "execution_count": null,
      "metadata": {
        "colab": {
          "base_uri": "https://localhost:8080/",
          "height": 295
        },
        "id": "RfVGZ-bY3_Zs",
        "outputId": "74440049-4568-466e-d77f-4cbd1e700d1b"
      },
      "outputs": [
        {
          "output_type": "display_data",
          "data": {
            "text/plain": [
              "<Figure size 432x288 with 1 Axes>"
            ],
            "image/png": "[encoded data removed]"
          },
          "metadata": {
            "needs_background": "light"
          }
        }
      ],
      "source": [
        "plt.figure(figsize=(6, 4))\n",
        "plt.plot(history.history['accuracy'],'r', label='Accuracy of training data')\n",
        "plt.plot(history.history['val_accuracy'],'g', label='Accuracy of validation data')\n",
        "plt.title('Model Accuracy')\n",
        "plt.xlabel('Epochs')\n",
        "plt.ylabel('Accuracy')\n",
        "plt.legend(loc='lower right')\n",
        "plt.show()"
      ]
    },
    {
      "cell_type": "code",
      "execution_count": null,
      "metadata": {
        "colab": {
          "base_uri": "https://localhost:8080/",
          "height": 295
        },
        "id": "0uhcsGmv4Bro",
        "outputId": "b201e64f-2a8a-4674-9cc9-c548b434a7c1"
      },
      "outputs": [
        {
          "output_type": "display_data",
          "data": {
            "text/plain": [
              "<Figure size 432x288 with 1 Axes>"
            ],
            "image/png": "[encoded data removed]"
          },
          "metadata": {
            "needs_background": "light"
          }
        }
      ],
      "source": [
        "plt.figure(figsize=(6, 4))\n",
        "plt.plot(history.history['loss'],'r', label='Loss of training data')\n",
        "plt.plot(history.history['val_loss'],'g', label='Loss of validation data')\n",
        "plt.title('Model Loss')\n",
        "plt.xlabel('Epochs')\n",
        "plt.ylabel('Loss')\n",
        "plt.legend(loc='upper right')\n",
        "plt.show()"
      ]
    },
    {
      "cell_type": "markdown",
      "metadata": {
        "id": "ke5y_sD24Gpj"
      },
      "source": [
        "# Classification Report"
      ]
    },
    {
      "cell_type": "code",
      "execution_count": null,
      "metadata": {
        "colab": {
          "base_uri": "https://localhost:8080/"
        },
        "id": "E2ZTBz2k4Jt3",
        "outputId": "f0ab86ad-73c5-4901-f5e4-b54fe25f6657"
      },
      "outputs": [
        {
          "output_type": "stream",
          "name": "stdout",
          "text": [
            "\n",
            "Classification Report\n",
            "\n",
            "                    precision    recall  f1-score   support\n",
            "\n",
            "           WALKING       0.97      0.92      0.95       496\n",
            "  WALKING_UPSTAIRS       0.97      0.94      0.95       471\n",
            "WALKING_DOWNSTAIRS       0.91      1.00      0.95       420\n",
            "           SITTING       0.96      0.86      0.91       491\n",
            "          STANDING       0.89      0.97      0.93       532\n",
            "            LAYING       0.99      1.00      1.00       537\n",
            "\n",
            "          accuracy                           0.95      2947\n",
            "         macro avg       0.95      0.95      0.95      2947\n",
            "      weighted avg       0.95      0.95      0.95      2947\n",
            "\n"
          ]
        }
      ],
      "source": [
        "from sklearn.metrics import classification_report\n",
        "y_pred = modelgru.predict(testX)\n",
        "y_pred_classes = [np.argmax(element) for element in y_pred]\n",
        "print('\\nClassification Report\\n')\n",
        "print(classification_report(testr, y_pred_classes, target_names=[\"WALKING\", \"WALKING_UPSTAIRS\", \"WALKING_DOWNSTAIRS\", \"SITTING\", \"STANDING\", \"LAYING\"]))\n",
        "#here we needed testr not testy"
      ]
    },
    {
      "cell_type": "markdown",
      "metadata": {
        "id": "W1iEq33V4NfD"
      },
      "source": [
        "# GRU model gives an accuracy of 89%\n",
        "\n",
        "---\n",
        "\n"
      ]
    }
  ],
  "metadata": {
    "colab": {
      "collapsed_sections": [],
      "provenance": []
    },
    "kernelspec": {
      "display_name": "Python 3",
      "name": "python3"
    },
    "language_info": {
      "name": "python"
    }
  },
  "nbformat": 4,
  "nbformat_minor": 0
}